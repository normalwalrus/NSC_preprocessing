{
 "cells": [
  {
   "cell_type": "code",
   "execution_count": 76,
   "metadata": {},
   "outputs": [],
   "source": [
    "import re\n",
    "\n",
    "def apply_rules(sentence, min_char):\n",
    "    \n",
    "    if not other_languages_rule(sentence):\n",
    "        return  \"REJECT\"\n",
    "    \n",
    "    sentence = filler_word_rule(sentence)\n",
    "    sentence = singlish_filler_word_rule(sentence)\n",
    "    sentence = singlish_exclamation_rule(sentence)\n",
    "    sentence = singlish_lingo_rule(sentence)\n",
    "    sentence = acronyms_rule(sentence)\n",
    "    sentence = shortforms_rule(sentence)\n",
    "    \n",
    "    if minimum_char_rule(sentence, min_char):\n",
    "        return sentence\n",
    "    else:\n",
    "        return \"REJECT\"\n",
    "    \n",
    "\n",
    "def filler_word_rule(sentence):\n",
    "    '''\n",
    "    For words like etc. (uh), (mm), (pbo)\n",
    "    \n",
    "    REMOVE THESE WORDS\n",
    "    '''\n",
    "    \n",
    "    pattern = r'\\((.*?)\\)'\n",
    "    sentence = re.sub(pattern, r'', sentence)\n",
    "    \n",
    "    return sentence\n",
    "\n",
    "def singlish_filler_word_rule(sentence):\n",
    "    '''\n",
    "    For words like etc. [ah], [leh], [orh]\n",
    "    \n",
    "    REMOVE the []\n",
    "    '''\n",
    "    \n",
    "    pattern = r'\\[(.*?)\\]'\n",
    "    sentence = re.sub(pattern, r'\\1', sentence)\n",
    "    \n",
    "    return sentence\n",
    "\n",
    "def other_languages_rule(sentence):\n",
    "    '''\n",
    "    For words like etc. <mandarin>…</mandarin>\n",
    "    \n",
    "    REMOVE WHOLE THING\n",
    "    '''\n",
    "    \n",
    "    pass_rule = True\n",
    "    \n",
    "    pattern = r'\\<(\\w+)\\>(.*?)\\<\\/\\1\\>'\n",
    "    sentence = re.findall(pattern, sentence)\n",
    "    \n",
    "    if sentence:\n",
    "        pass_rule = False\n",
    "    \n",
    "    return pass_rule\n",
    "    \n",
    "\n",
    "def singlish_exclamation_rule(sentence): \n",
    "    '''\n",
    "    For words like etc. !aiyo!, !haiya!, !huh!\n",
    "    \n",
    "    REMOVE the []\n",
    "    '''\n",
    "    \n",
    "    pattern = r'\\!(.*?)\\!'\n",
    "    sentence = re.sub(pattern, r'\\1', sentence)\n",
    "    \n",
    "    return sentence\n",
    "\n",
    "def singlish_lingo_rule(sentence):\n",
    "    '''\n",
    "    For words like etc. #kor#, #pa#, #Hougang#\n",
    "    \n",
    "    REMOVE the ##\n",
    "    '''\n",
    "    \n",
    "    pattern = r'\\#(.*?)\\#'\n",
    "    sentence = re.sub(pattern, r'\\1', sentence)\n",
    "    \n",
    "    return sentence\n",
    "\n",
    "def acronyms_rule(sentence):\n",
    "    '''\n",
    "    For words like etc. U_E\n",
    "    \n",
    "    REPLACE the _ with blank space\n",
    "    '''\n",
    "    \n",
    "    pattern = r'_'\n",
    "    sentence = re.sub(pattern, r' ', sentence)\n",
    "    \n",
    "    return sentence\n",
    "\n",
    "def shortforms_rule(sentence):\n",
    "    '''\n",
    "    For words like etc. U_E\n",
    "    \n",
    "    REPLACE the _ with blank space\n",
    "    '''\n",
    "    \n",
    "    pattern = r'~'\n",
    "    sentence = re.sub(pattern, r'', sentence)\n",
    "    return sentence\n",
    "\n",
    "def minimum_char_rule(sentence, minimum_char):\n",
    "    \"\"\"\n",
    "    Minimum number of characters to meet if not remove\n",
    "    \"\"\"\n",
    "    \n",
    "    return len(sentence) >= minimum_char"
   ]
  },
  {
   "cell_type": "code",
   "execution_count": 77,
   "metadata": {},
   "outputs": [
    {
     "data": {
      "text/plain": [
       "' ya '"
      ]
     },
     "execution_count": 77,
     "metadata": {},
     "output_type": "execute_result"
    }
   ],
   "source": [
    "sentence_filler = '(hmm) ya (uh huh)'\n",
    "\n",
    "filler_word_rule(sentence_filler)"
   ]
  },
  {
   "cell_type": "code",
   "execution_count": 78,
   "metadata": {},
   "outputs": [
    {
     "data": {
      "text/plain": [
       "\"there's there's many levels lah then the whole thing took like just took so long lor ya we die a lot of times\""
      ]
     },
     "execution_count": 78,
     "metadata": {},
     "output_type": "execute_result"
    }
   ],
   "source": [
    "sentence_singlish_filler = \"there's there's many levels [lah] then the whole thing took like just took so long [lor] ya we die a lot of times\"\n",
    "singlish_filler_word_rule(sentence_singlish_filler)"
   ]
  },
  {
   "cell_type": "code",
   "execution_count": 79,
   "metadata": {},
   "outputs": [
    {
     "data": {
      "text/plain": [
       "True"
      ]
     },
     "execution_count": 79,
     "metadata": {},
     "output_type": "execute_result"
    }
   ],
   "source": [
    "sentence_chinese = \"ya ya it really it really I just see one minecraft zombie just somersaulting towards me actually an army of them then then because <mandarin>\\u4ed6\\u4eec\\u4e00\\u76f4\\u8f6c:ta men yi zhi zhuan</mandarin> then end up like like <mandarin>\\u5f88\\u96be\\u6253\\u7684\\u5230:hen nan da di dao</mandarin>\"\n",
    "    \n",
    "other_languages_rule(sentence_singlish_filler)"
   ]
  },
  {
   "cell_type": "code",
   "execution_count": 80,
   "metadata": {},
   "outputs": [
    {
     "data": {
      "text/plain": [
       "'U E A N E'"
      ]
     },
     "execution_count": 80,
     "metadata": {},
     "output_type": "execute_result"
    }
   ],
   "source": [
    "sentence_acronym = \"U_E A_N_E\"\n",
    "acronyms_rule(sentence_acronym)"
   ]
  },
  {
   "cell_type": "code",
   "execution_count": 81,
   "metadata": {},
   "outputs": [
    {
     "data": {
      "text/plain": [
       "'poly poly poly poly'"
      ]
     },
     "execution_count": 81,
     "metadata": {},
     "output_type": "execute_result"
    }
   ],
   "source": [
    "sentence_shortform = \"poly~ poly~ poly~ poly~\"\n",
    "shortforms_rule(sentence_shortform)"
   ]
  },
  {
   "cell_type": "code",
   "execution_count": null,
   "metadata": {},
   "outputs": [],
   "source": []
  }
 ],
 "metadata": {
  "kernelspec": {
   "display_name": "venv",
   "language": "python",
   "name": "python3"
  },
  "language_info": {
   "codemirror_mode": {
    "name": "ipython",
    "version": 3
   },
   "file_extension": ".py",
   "mimetype": "text/x-python",
   "name": "python",
   "nbconvert_exporter": "python",
   "pygments_lexer": "ipython3",
   "version": "3.11.0rc1"
  }
 },
 "nbformat": 4,
 "nbformat_minor": 2
}
