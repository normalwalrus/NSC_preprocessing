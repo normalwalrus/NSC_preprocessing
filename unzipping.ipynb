{
 "cells": [
  {
   "cell_type": "code",
   "execution_count": 7,
   "metadata": {},
   "outputs": [],
   "source": [
    "import zipfile\n",
    "import os\n",
    "\n",
    "path_to_zip_folder = 'data/NSC-samples/SAME'\n",
    "\n",
    "list_of_directories = os.listdir(path_to_zip_folder)\n",
    "\n",
    "for directory in list_of_directories:\n",
    "    \n",
    "    path_to_zip_file = path_to_zip_folder+'/'+directory\n",
    "\n",
    "    with zipfile.ZipFile(path_to_zip_file, 'r') as zip_ref:\n",
    "        \n",
    "        zip_ref.extractall(path_to_zip_folder)"
   ]
  },
  {
   "cell_type": "code",
   "execution_count": 6,
   "metadata": {},
   "outputs": [
    {
     "data": {
      "text/plain": [
       "['SPEAKER1030.zip',\n",
       " 'SPEAKER1033.zip',\n",
       " 'SPEAKER1032.zip',\n",
       " 'SPEAKER1019.zip',\n",
       " 'SPEAKER1031.zip',\n",
       " 'SPEAKER1018.zip']"
      ]
     },
     "execution_count": 6,
     "metadata": {},
     "output_type": "execute_result"
    }
   ],
   "source": [
    "import os\n",
    "\n",
    "path_to_zip_folder = 'data/NSC-samples/SAME'\n",
    "list_of_directories = os.listdir(path_to_zip_folder)\n",
    "\n",
    "list_of_directories"
   ]
  },
  {
   "cell_type": "code",
   "execution_count": null,
   "metadata": {},
   "outputs": [],
   "source": []
  }
 ],
 "metadata": {
  "kernelspec": {
   "display_name": "venv",
   "language": "python",
   "name": "python3"
  },
  "language_info": {
   "codemirror_mode": {
    "name": "ipython",
    "version": 3
   },
   "file_extension": ".py",
   "mimetype": "text/x-python",
   "name": "python",
   "nbconvert_exporter": "python",
   "pygments_lexer": "ipython3",
   "version": "3.11.0rc1"
  }
 },
 "nbformat": 4,
 "nbformat_minor": 2
}
